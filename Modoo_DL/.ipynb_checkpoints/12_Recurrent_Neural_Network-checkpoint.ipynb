{
 "cells": [
  {
   "cell_type": "code",
   "execution_count": 1,
   "metadata": {},
   "outputs": [],
   "source": [
    "import tensorflow as tf\n",
    "import tensorflow.keras as k\n",
    "import numpy as np"
   ]
  },
  {
   "cell_type": "code",
   "execution_count": 27,
   "metadata": {},
   "outputs": [],
   "source": [
    "sentence = (\"You knew that I was no good for you \"\n",
    "           \"when we lay down after doing that things you loved \"\n",
    "           \"you knew that I wasn’t better than you \"\n",
    "           \"I hope that I could be seemed really fine with you leaving\").lower()\n",
    "idx2word = list(set(sentence))\n",
    "word2idx = {w: i for i, w in enumerate(idx2word)}\n",
    "num_classes = len(idx2word)"
   ]
  },
  {
   "cell_type": "code",
   "execution_count": 44,
   "metadata": {},
   "outputs": [
    {
     "data": {
      "text/plain": [
       "(TensorShape([174, 10, 24]), TensorShape([174, 10, 24]))"
      ]
     },
     "execution_count": 44,
     "metadata": {},
     "output_type": "execute_result"
    }
   ],
   "source": [
    "seq_len = 10\n",
    "x_words = [sentence[i:i + seq_len] for i, _ in list(enumerate(sentence))[:-10]] # Is this the best way?? \n",
    "x_words_idx = [[word2idx[w] for w in seq] for seq in x_words]                   # difficult to predict - tf only recieves square-shaped list\n",
    "y_words = [sentence[i + 1 : i + seq_len + 1] for i, _ in list(enumerate(sentence))[:-10]]\n",
    "y_words_idx = [[word2idx[w] for w in seq] for seq in x_words]\n",
    "\n",
    "x = tf.one_hot(x_words_idx, num_classes)\n",
    "y = tf.one_hot(y_words_idx, num_classes)\n",
    "x.shape, y.shape"
   ]
  },
  {
   "cell_type": "code",
   "execution_count": 66,
   "metadata": {},
   "outputs": [
    {
     "name": "stdout",
     "output_type": "stream",
     "text": [
      "ou leaving\n"
     ]
    },
    {
     "data": {
      "text/plain": [
       "(['you knew t', 'you leavin'], ['ou knew th', 'ou leaving'])"
      ]
     },
     "execution_count": 66,
     "metadata": {},
     "output_type": "execute_result"
    }
   ],
   "source": [
    "# Alternative way - just create, then pick\n",
    "\n",
    "source = [sentence[i : i+seq_len] for i, _ in enumerate(sentence)]\n",
    "print(source[-10])\n",
    "x_alt, y_alt = source[:-10], source[1:-9]\n",
    "[x_alt[i] for i in [0,-1]], [y_alt[i] for i in [0,-1]]"
   ]
  },
  {
   "cell_type": "code",
   "execution_count": 47,
   "metadata": {},
   "outputs": [
    {
     "name": "stdout",
     "output_type": "stream",
     "text": [
      "Model: \"sequential_2\"\n",
      "_________________________________________________________________\n",
      "Layer (type)                 Output Shape              Param #   \n",
      "=================================================================\n",
      "lstm_1 (LSTM)                (None, 10, 24)            4704      \n",
      "_________________________________________________________________\n",
      "lstm_2 (LSTM)                (None, 10, 24)            4704      \n",
      "_________________________________________________________________\n",
      "time_distributed (TimeDistri (None, 10, 24)            600       \n",
      "=================================================================\n",
      "Total params: 10,008\n",
      "Trainable params: 10,008\n",
      "Non-trainable params: 0\n",
      "_________________________________________________________________\n"
     ]
    }
   ],
   "source": [
    "model = k.Sequential()\n",
    "model.add(k.layers.LSTM(units = num_classes, input_shape = (seq_len, num_classes), return_sequences = True))\n",
    "model.add(k.layers.LSTM(units = num_classes, return_sequences = True))\n",
    "model.add(k.layers.TimeDistributed(k.layers.Dense(units = num_classes, activation = 'softmax')))\n",
    "\n",
    "model.summary()\n",
    "model.compile(loss = 'categorical_crossentropy', optimizer = k.optimizers.Adam(lr = 0.1), metrics = ['acc'])"
   ]
  },
  {
   "cell_type": "code",
   "execution_count": 48,
   "metadata": {},
   "outputs": [
    {
     "name": "stdout",
     "output_type": "stream",
     "text": [
      "Epoch 1/100\n",
      "1/1 [==============================] - 0s 2ms/step - loss: 3.1771 - acc: 0.0718\n",
      "Epoch 2/100\n",
      "1/1 [==============================] - 0s 2ms/step - loss: 2.9416 - acc: 0.2126\n",
      "Epoch 3/100\n",
      "1/1 [==============================] - 0s 2ms/step - loss: 3.1350 - acc: 0.2126\n",
      "Epoch 4/100\n",
      "1/1 [==============================] - 0s 1ms/step - loss: 2.8152 - acc: 0.2224\n",
      "Epoch 5/100\n",
      "1/1 [==============================] - 0s 2ms/step - loss: 2.8063 - acc: 0.1563\n",
      "Epoch 6/100\n",
      "1/1 [==============================] - 0s 1ms/step - loss: 2.8011 - acc: 0.1379\n",
      "Epoch 7/100\n",
      "1/1 [==============================] - 0s 2ms/step - loss: 2.7715 - acc: 0.1966\n",
      "Epoch 8/100\n",
      "1/1 [==============================] - 0s 1ms/step - loss: 2.7070 - acc: 0.3253\n",
      "Epoch 9/100\n",
      "1/1 [==============================] - 0s 2ms/step - loss: 2.6066 - acc: 0.3437\n",
      "Epoch 10/100\n",
      "1/1 [==============================] - 0s 1ms/step - loss: 2.4782 - acc: 0.3017\n",
      "Epoch 11/100\n",
      "1/1 [==============================] - 0s 2ms/step - loss: 2.3192 - acc: 0.2954\n",
      "Epoch 12/100\n",
      "1/1 [==============================] - 0s 2ms/step - loss: 2.1518 - acc: 0.3029\n",
      "Epoch 13/100\n",
      "1/1 [==============================] - 0s 1ms/step - loss: 1.9729 - acc: 0.3684\n",
      "Epoch 14/100\n",
      "1/1 [==============================] - 0s 2ms/step - loss: 1.7561 - acc: 0.4638\n",
      "Epoch 15/100\n",
      "1/1 [==============================] - 0s 2ms/step - loss: 1.5384 - acc: 0.5500\n",
      "Epoch 16/100\n",
      "1/1 [==============================] - 0s 2ms/step - loss: 1.3206 - acc: 0.6408\n",
      "Epoch 17/100\n",
      "1/1 [==============================] - 0s 1ms/step - loss: 1.1099 - acc: 0.6960\n",
      "Epoch 18/100\n",
      "1/1 [==============================] - 0s 2ms/step - loss: 0.9128 - acc: 0.7920\n",
      "Epoch 19/100\n",
      "1/1 [==============================] - 0s 2ms/step - loss: 0.7339 - acc: 0.8310\n",
      "Epoch 20/100\n",
      "1/1 [==============================] - 0s 2ms/step - loss: 0.5786 - acc: 0.8914\n",
      "Epoch 21/100\n",
      "1/1 [==============================] - 0s 2ms/step - loss: 0.4563 - acc: 0.9052\n",
      "Epoch 22/100\n",
      "1/1 [==============================] - 0s 2ms/step - loss: 0.3471 - acc: 0.9322\n",
      "Epoch 23/100\n",
      "1/1 [==============================] - 0s 2ms/step - loss: 0.2667 - acc: 0.9563\n",
      "Epoch 24/100\n",
      "1/1 [==============================] - 0s 3ms/step - loss: 0.1976 - acc: 0.9787\n",
      "Epoch 25/100\n",
      "1/1 [==============================] - 0s 2ms/step - loss: 0.1419 - acc: 0.9828\n",
      "Epoch 26/100\n",
      "1/1 [==============================] - 0s 2ms/step - loss: 0.0986 - acc: 0.9948\n",
      "Epoch 27/100\n",
      "1/1 [==============================] - 0s 1ms/step - loss: 0.0713 - acc: 0.9983\n",
      "Epoch 28/100\n",
      "1/1 [==============================] - 0s 2ms/step - loss: 0.0523 - acc: 0.9983\n",
      "Epoch 29/100\n",
      "1/1 [==============================] - 0s 2ms/step - loss: 0.0384 - acc: 0.9989\n",
      "Epoch 30/100\n",
      "1/1 [==============================] - 0s 5ms/step - loss: 0.0289 - acc: 0.9989\n",
      "Epoch 31/100\n",
      "1/1 [==============================] - 0s 2ms/step - loss: 0.0225 - acc: 0.9989\n",
      "Epoch 32/100\n",
      "1/1 [==============================] - 0s 2ms/step - loss: 0.0177 - acc: 0.9994\n",
      "Epoch 33/100\n",
      "1/1 [==============================] - 0s 2ms/step - loss: 0.0139 - acc: 0.9994\n",
      "Epoch 34/100\n",
      "1/1 [==============================] - 0s 2ms/step - loss: 0.0110 - acc: 1.0000\n",
      "Epoch 35/100\n",
      "1/1 [==============================] - 0s 2ms/step - loss: 0.0088 - acc: 1.0000\n",
      "Epoch 36/100\n",
      "1/1 [==============================] - 0s 1ms/step - loss: 0.0071 - acc: 1.0000\n",
      "Epoch 37/100\n",
      "1/1 [==============================] - 0s 91ms/step - loss: 0.0058 - acc: 1.0000\n",
      "Epoch 38/100\n",
      "1/1 [==============================] - 0s 1ms/step - loss: 0.0048 - acc: 1.0000\n",
      "Epoch 39/100\n",
      "1/1 [==============================] - 0s 2ms/step - loss: 0.0040 - acc: 1.0000\n",
      "Epoch 40/100\n",
      "1/1 [==============================] - 0s 2ms/step - loss: 0.0034 - acc: 1.0000\n",
      "Epoch 41/100\n",
      "1/1 [==============================] - 0s 2ms/step - loss: 0.0030 - acc: 1.0000\n",
      "Epoch 42/100\n",
      "1/1 [==============================] - 0s 2ms/step - loss: 0.0026 - acc: 1.0000\n",
      "Epoch 43/100\n",
      "1/1 [==============================] - 0s 1ms/step - loss: 0.0023 - acc: 1.0000\n",
      "Epoch 44/100\n",
      "1/1 [==============================] - 0s 2ms/step - loss: 0.0021 - acc: 1.0000\n",
      "Epoch 45/100\n",
      "1/1 [==============================] - 0s 2ms/step - loss: 0.0019 - acc: 1.0000\n",
      "Epoch 46/100\n",
      "1/1 [==============================] - 0s 1ms/step - loss: 0.0017 - acc: 1.0000\n",
      "Epoch 47/100\n",
      "1/1 [==============================] - 0s 2ms/step - loss: 0.0015 - acc: 1.0000\n",
      "Epoch 48/100\n",
      "1/1 [==============================] - 0s 2ms/step - loss: 0.0014 - acc: 1.0000\n",
      "Epoch 49/100\n",
      "1/1 [==============================] - 0s 2ms/step - loss: 0.0013 - acc: 1.0000\n",
      "Epoch 50/100\n",
      "1/1 [==============================] - 0s 1ms/step - loss: 0.0012 - acc: 1.0000\n",
      "Epoch 51/100\n",
      "1/1 [==============================] - 0s 1ms/step - loss: 0.0011 - acc: 1.0000\n",
      "Epoch 52/100\n",
      "1/1 [==============================] - 0s 90ms/step - loss: 0.0010 - acc: 1.0000\n",
      "Epoch 53/100\n",
      "1/1 [==============================] - 0s 4ms/step - loss: 9.7452e-04 - acc: 1.0000\n",
      "Epoch 54/100\n",
      "1/1 [==============================] - 0s 2ms/step - loss: 9.1725e-04 - acc: 1.0000\n",
      "Epoch 55/100\n",
      "1/1 [==============================] - 0s 1ms/step - loss: 8.6680e-04 - acc: 1.0000\n",
      "Epoch 56/100\n",
      "1/1 [==============================] - 0s 2ms/step - loss: 8.2221e-04 - acc: 1.0000\n",
      "Epoch 57/100\n",
      "1/1 [==============================] - 0s 1ms/step - loss: 7.8263e-04 - acc: 1.0000\n",
      "Epoch 58/100\n",
      "1/1 [==============================] - 0s 2ms/step - loss: 7.4734e-04 - acc: 1.0000\n",
      "Epoch 59/100\n",
      "1/1 [==============================] - 0s 2ms/step - loss: 7.1569e-04 - acc: 1.0000\n",
      "Epoch 60/100\n",
      "1/1 [==============================] - 0s 1ms/step - loss: 6.8715e-04 - acc: 1.0000\n",
      "Epoch 61/100\n",
      "1/1 [==============================] - 0s 3ms/step - loss: 6.6127e-04 - acc: 1.0000\n",
      "Epoch 62/100\n",
      "1/1 [==============================] - 0s 2ms/step - loss: 6.3771e-04 - acc: 1.0000\n",
      "Epoch 63/100\n",
      "1/1 [==============================] - 0s 90ms/step - loss: 6.1617e-04 - acc: 1.0000\n",
      "Epoch 64/100\n",
      "1/1 [==============================] - 0s 2ms/step - loss: 5.9643e-04 - acc: 1.0000\n",
      "Epoch 65/100\n",
      "1/1 [==============================] - 0s 2ms/step - loss: 5.7829e-04 - acc: 1.0000\n",
      "Epoch 66/100\n",
      "1/1 [==============================] - 0s 1ms/step - loss: 5.6158e-04 - acc: 1.0000\n",
      "Epoch 67/100\n",
      "1/1 [==============================] - 0s 2ms/step - loss: 5.4616e-04 - acc: 1.0000\n",
      "Epoch 68/100\n",
      "1/1 [==============================] - 0s 2ms/step - loss: 5.3189e-04 - acc: 1.0000\n",
      "Epoch 69/100\n",
      "1/1 [==============================] - 0s 2ms/step - loss: 5.1867e-04 - acc: 1.0000\n",
      "Epoch 70/100\n",
      "1/1 [==============================] - 0s 2ms/step - loss: 5.0639e-04 - acc: 1.0000\n",
      "Epoch 71/100\n",
      "1/1 [==============================] - 0s 2ms/step - loss: 4.9495e-04 - acc: 1.0000\n",
      "Epoch 72/100\n",
      "1/1 [==============================] - 0s 2ms/step - loss: 4.8428e-04 - acc: 1.0000\n",
      "Epoch 73/100\n",
      "1/1 [==============================] - 0s 3ms/step - loss: 4.7430e-04 - acc: 1.0000\n",
      "Epoch 74/100\n",
      "1/1 [==============================] - 0s 4ms/step - loss: 4.6496e-04 - acc: 1.0000\n",
      "Epoch 75/100\n",
      "1/1 [==============================] - 0s 2ms/step - loss: 4.5618e-04 - acc: 1.0000\n",
      "Epoch 76/100\n",
      "1/1 [==============================] - 0s 2ms/step - loss: 4.4793e-04 - acc: 1.0000\n",
      "Epoch 77/100\n",
      "1/1 [==============================] - 0s 1ms/step - loss: 4.4016e-04 - acc: 1.0000\n",
      "Epoch 78/100\n",
      "1/1 [==============================] - 0s 2ms/step - loss: 4.3281e-04 - acc: 1.0000\n",
      "Epoch 79/100\n",
      "1/1 [==============================] - 0s 2ms/step - loss: 4.2586e-04 - acc: 1.0000\n",
      "Epoch 80/100\n",
      "1/1 [==============================] - 0s 2ms/step - loss: 4.1926e-04 - acc: 1.0000\n",
      "Epoch 81/100\n",
      "1/1 [==============================] - 0s 2ms/step - loss: 4.1299e-04 - acc: 1.0000\n",
      "Epoch 82/100\n",
      "1/1 [==============================] - 0s 1ms/step - loss: 4.0702e-04 - acc: 1.0000\n",
      "Epoch 83/100\n",
      "1/1 [==============================] - 0s 1ms/step - loss: 4.0131e-04 - acc: 1.0000\n",
      "Epoch 84/100\n",
      "1/1 [==============================] - 0s 1ms/step - loss: 3.9585e-04 - acc: 1.0000\n",
      "Epoch 85/100\n",
      "1/1 [==============================] - 0s 2ms/step - loss: 3.9062e-04 - acc: 1.0000\n",
      "Epoch 86/100\n",
      "1/1 [==============================] - 0s 2ms/step - loss: 3.8559e-04 - acc: 1.0000\n",
      "Epoch 87/100\n"
     ]
    },
    {
     "name": "stdout",
     "output_type": "stream",
     "text": [
      "1/1 [==============================] - 0s 2ms/step - loss: 3.8075e-04 - acc: 1.0000\n",
      "Epoch 88/100\n",
      "1/1 [==============================] - 0s 86ms/step - loss: 3.7609e-04 - acc: 1.0000\n",
      "Epoch 89/100\n",
      "1/1 [==============================] - 0s 1ms/step - loss: 3.7159e-04 - acc: 1.0000\n",
      "Epoch 90/100\n",
      "1/1 [==============================] - 0s 2ms/step - loss: 3.6726e-04 - acc: 1.0000\n",
      "Epoch 91/100\n",
      "1/1 [==============================] - 0s 2ms/step - loss: 3.6306e-04 - acc: 1.0000\n",
      "Epoch 92/100\n",
      "1/1 [==============================] - 0s 2ms/step - loss: 3.5900e-04 - acc: 1.0000\n",
      "Epoch 93/100\n",
      "1/1 [==============================] - 0s 2ms/step - loss: 3.5507e-04 - acc: 1.0000\n",
      "Epoch 94/100\n",
      "1/1 [==============================] - 0s 2ms/step - loss: 3.5126e-04 - acc: 1.0000\n",
      "Epoch 95/100\n",
      "1/1 [==============================] - 0s 2ms/step - loss: 3.4757e-04 - acc: 1.0000\n",
      "Epoch 96/100\n",
      "1/1 [==============================] - 0s 2ms/step - loss: 3.4398e-04 - acc: 1.0000\n",
      "Epoch 97/100\n",
      "1/1 [==============================] - 0s 2ms/step - loss: 3.4049e-04 - acc: 1.0000\n",
      "Epoch 98/100\n",
      "1/1 [==============================] - 0s 1ms/step - loss: 3.3710e-04 - acc: 1.0000\n",
      "Epoch 99/100\n",
      "1/1 [==============================] - 0s 2ms/step - loss: 3.3380e-04 - acc: 1.0000\n",
      "Epoch 100/100\n",
      "1/1 [==============================] - 0s 2ms/step - loss: 3.3059e-04 - acc: 1.0000\n"
     ]
    },
    {
     "data": {
      "text/plain": [
       "<tensorflow.python.keras.callbacks.History at 0x7faaf0753c50>"
      ]
     },
     "execution_count": 48,
     "metadata": {},
     "output_type": "execute_result"
    }
   ],
   "source": [
    "model.fit(x, y, batch_size = len(x), epochs = 100)"
   ]
  },
  {
   "cell_type": "code",
   "execution_count": 56,
   "metadata": {},
   "outputs": [
    {
     "data": {
      "text/plain": [
       "TensorShape([174, 10])"
      ]
     },
     "execution_count": 56,
     "metadata": {},
     "output_type": "execute_result"
    }
   ],
   "source": [
    "prediction = tf.argmax(model.predict(x), axis = -1)\n",
    "prediction.shape"
   ]
  },
  {
   "cell_type": "code",
   "execution_count": 59,
   "metadata": {},
   "outputs": [
    {
     "name": "stdout",
     "output_type": "stream",
     "text": [
      "Result : \n",
      "you knew that i was no good for you when we lay down after doing that things you loved you knew that i wasn’t better than you i hope that i could be seemed really fine with you leavin\n"
     ]
    }
   ],
   "source": [
    "prediction_word = [''.join([idx2word[i] for i in seq]) for seq in prediction]\n",
    "print('Result : ')\n",
    "print(prediction_word[0] + ''.join([seq[-1] for seq in prediction_word[1:]]))"
   ]
  }
 ],
 "metadata": {
  "kernelspec": {
   "display_name": "Python 3",
   "language": "python",
   "name": "python3"
  },
  "language_info": {
   "codemirror_mode": {
    "name": "ipython",
    "version": 3
   },
   "file_extension": ".py",
   "mimetype": "text/x-python",
   "name": "python",
   "nbconvert_exporter": "python",
   "pygments_lexer": "ipython3",
   "version": "3.7.4"
  }
 },
 "nbformat": 4,
 "nbformat_minor": 4
}
